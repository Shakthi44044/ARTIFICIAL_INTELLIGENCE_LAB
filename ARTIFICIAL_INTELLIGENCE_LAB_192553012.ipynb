{
  "cells": [
    {
      "cell_type": "markdown",
      "metadata": {
        "id": "view-in-github",
        "colab_type": "text"
      },
      "source": [
        "<a href=\"https://colab.research.google.com/github/Shakthi44044/ARTIFICIAL_INTELLIGENCE_LAB/blob/main/ARTIFICIAL_INTELLIGENCE_LAB_192553012.ipynb\" target=\"_parent\"><img src=\"https://colab.research.google.com/assets/colab-badge.svg\" alt=\"Open In Colab\"/></a>"
      ]
    },
    {
      "cell_type": "markdown",
      "metadata": {
        "id": "efreJmrbP7l8"
      },
      "source": [
        "**BFS**"
      ]
    },
    {
      "cell_type": "code",
      "execution_count": null,
      "metadata": {
        "colab": {
          "base_uri": "https://localhost:8080/"
        },
        "id": "lIYdn1woOS1n",
        "outputId": "8fd9b8c5-a563-45b4-91ce-bc4aae9a3f20"
      },
      "outputs": [
        {
          "name": "stdout",
          "output_type": "stream",
          "text": [
            "0 1 2 3 4\n"
          ]
        }
      ],
      "source": [
        "from collections import deque\n",
        "\n",
        "def bfs(adj, s=0):\n",
        "    V, q, visited, res = len(adj), deque([s]), {s}, []\n",
        "    while q:\n",
        "        v = q.popleft()\n",
        "        res.append(v)\n",
        "        for u in adj[v]:\n",
        "            if u not in visited:\n",
        "                visited.add(u)\n",
        "                q.append(u)\n",
        "    return res\n",
        "\n",
        "# Example\n",
        "adj = [[1,2], [0,2,3], [0,4], [1,4], [2,3]]\n",
        "print(*bfs(adj))\n"
      ]
    },
    {
      "cell_type": "markdown",
      "metadata": {
        "id": "oRgTMaAsP3jU"
      },
      "source": [
        "**DFS**"
      ]
    },
    {
      "cell_type": "code",
      "execution_count": null,
      "metadata": {
        "colab": {
          "base_uri": "https://localhost:8080/"
        },
        "id": "hdyjbnJ-KWMz",
        "outputId": "c80a7862-7ef3-482e-859c-26f2da01367c"
      },
      "outputs": [
        {
          "name": "stdout",
          "output_type": "stream",
          "text": [
            "1 2 0 3 4 5\n"
          ]
        }
      ],
      "source": [
        "from collections import defaultdict\n",
        "\n",
        "def dfs(adj):\n",
        "    visited, res = set(), []\n",
        "    def rec(v):\n",
        "        visited.add(v)\n",
        "        res.append(v)\n",
        "        for u in adj[v]:\n",
        "            if u not in visited: rec(u)\n",
        "    for v in adj:\n",
        "        if v not in visited: rec(v)\n",
        "    return res\n",
        "\n",
        "# Example\n",
        "adj = defaultdict(list)\n",
        "edges = [(1,2),(2,0),(0,3),(4,5)]\n",
        "for u,v in edges:\n",
        "    adj[u].append(v)\n",
        "    adj[v].append(u)\n",
        "\n",
        "print(*dfs(adj))\n"
      ]
    },
    {
      "cell_type": "markdown",
      "metadata": {
        "id": "3HxgSFf8QDQT"
      },
      "source": [
        "**WATER JUG 2 JUGS PROBLEM**"
      ]
    },
    {
      "cell_type": "code",
      "execution_count": null,
      "metadata": {
        "colab": {
          "base_uri": "https://localhost:8080/"
        },
        "id": "jqmnjgTJKhiK",
        "outputId": "69be9813-55cb-43a1-847e-10bdc044124b"
      },
      "outputs": [
        {
          "name": "stdout",
          "output_type": "stream",
          "text": [
            "Path from initial state to solution state ::\n",
            "( 0 , 0 )\n",
            "( 0 , 3 )\n",
            "( 4 , 0 )\n",
            "( 4 , 3 )\n",
            "( 3 , 0 )\n",
            "( 1 , 3 )\n",
            "( 3 , 3 )\n",
            "( 4 , 2 )\n",
            "( 0 , 2 )\n"
          ]
        }
      ],
      "source": [
        "from collections import deque\n",
        "def Solution(a, b, target):\n",
        "\tm = {}\n",
        "\tisSolvable = False\n",
        "\tpath = []\n",
        "\n",
        "\tq = deque()\n",
        "\n",
        "\t#Initializing with jugs being empty\n",
        "\tq.append((0, 0))\n",
        "\n",
        "\twhile (len(q) > 0):\n",
        "\n",
        "\t\t# Current state\n",
        "\t\tu = q.popleft()\n",
        "\t\tif ((u[0], u[1]) in m):\n",
        "\t\t\tcontinue\n",
        "\t\tif ((u[0] > a or u[1] > b or\n",
        "\t\t\tu[0] < 0 or u[1] < 0)):\n",
        "\t\t\tcontinue\n",
        "\t\tpath.append([u[0], u[1]])\n",
        "\n",
        "\t\tm[(u[0], u[1])] = 1\n",
        "\n",
        "\t\tif (u[0] == target or u[1] == target):\n",
        "\t\t\tisSolvable = True\n",
        "\n",
        "\t\t\tif (u[0] == target):\n",
        "\t\t\t\tif (u[1] != 0):\n",
        "\t\t\t\t\tpath.append([u[0], 0])\n",
        "\t\t\telse:\n",
        "\t\t\t\tif (u[0] != 0):\n",
        "\n",
        "\t\t\t\t\tpath.append([0, u[1]])\n",
        "\n",
        "\t\t\tsz = len(path)\n",
        "\t\t\tfor i in range(sz):\n",
        "\t\t\t\tprint(\"(\", path[i][0], \",\",\n",
        "\t\t\t\t\tpath[i][1], \")\")\n",
        "\t\t\tbreak\n",
        "\n",
        "\t\tq.append([u[0], b]) # Fill Jug2\n",
        "\t\tq.append([a, u[1]]) # Fill Jug1\n",
        "\n",
        "\t\tfor ap in range(max(a, b) + 1):\n",
        "\t\t\tc = u[0] + ap\n",
        "\t\t\td = u[1] - ap\n",
        "\n",
        "\t\t\tif (c == a or (d == 0 and d >= 0)):\n",
        "\t\t\t\tq.append([c, d])\n",
        "\n",
        "\t\t\tc = u[0] - ap\n",
        "\t\t\td = u[1] + ap\n",
        "\n",
        "\t\t\tif ((c == 0 and c >= 0) or d == b):\n",
        "\t\t\t\tq.append([c, d])\n",
        "\n",
        "\t\tq.append([a, 0])\n",
        "\n",
        "\t\tq.append([0, b])\n",
        "\n",
        "\tif (not isSolvable):\n",
        "\t\tprint(\"Solution not possible\")\n",
        "\n",
        "if __name__ == '__main__':\n",
        "\n",
        "\tJug1, Jug2, target = 4, 3, 2\n",
        "\tprint(\"Path from initial state \"\n",
        "\t\t\"to solution state ::\")\n",
        "\n",
        "\tSolution(Jug1, Jug2, target)"
      ]
    },
    {
      "cell_type": "markdown",
      "metadata": {
        "id": "VyhqH1DdkmmD"
      },
      "source": [
        "**N-QUEENS**"
      ]
    },
    {
      "cell_type": "code",
      "execution_count": null,
      "metadata": {
        "colab": {
          "base_uri": "https://localhost:8080/"
        },
        "id": "sB3W2InOiSp-",
        "outputId": "72226ca3-0f72-4690-afba-99b1d04b370b"
      },
      "outputs": [
        {
          "name": "stdout",
          "output_type": "stream",
          "text": [
            "1 0 0 0 0 0 0 0\n",
            "0 0 0 0 1 0 0 0\n",
            "0 0 0 0 0 0 0 1\n",
            "0 0 0 0 0 1 0 0\n",
            "0 0 1 0 0 0 0 0\n",
            "0 0 0 0 0 0 1 0\n",
            "0 1 0 0 0 0 0 0\n",
            "0 0 0 1 0 0 0 0\n"
          ]
        }
      ],
      "source": [
        "def is_safe(board, r, c, n):\n",
        "    for i in range(r):\n",
        "        if board[i]==c or abs(board[i]-c)==r-i: return False\n",
        "    return True\n",
        "\n",
        "def solve(r, board, n):\n",
        "    if r==n: return board\n",
        "    for c in range(n):\n",
        "        if is_safe(board, r, c, n):\n",
        "            res=solve(r+1, board+[c], n)\n",
        "            if res: return res\n",
        "\n",
        "def queens(n=8):\n",
        "    sol=solve(0, [], n)\n",
        "    return [[1 if sol[r]==c else 0 for c in range(n)] for r in range(n)]\n",
        "\n",
        "# Example\n",
        "for row in queens():\n",
        "    print(*row)\n"
      ]
    },
    {
      "cell_type": "markdown",
      "metadata": {
        "id": "Lkz2SI3wiTVl"
      },
      "source": [
        "**A***\n"
      ]
    },
    {
      "cell_type": "code",
      "execution_count": null,
      "metadata": {
        "colab": {
          "base_uri": "https://localhost:8080/"
        },
        "id": "4iKPXJAxkl4k",
        "outputId": "192b6b3d-59c8-4fd7-a3af-6be8f2ecce33"
      },
      "outputs": [
        {
          "output_type": "stream",
          "name": "stdout",
          "text": [
            "Destination found\n",
            "The Path is\n",
            "-> (8, 0) -> (7, 0) -> (6, 0) -> (5, 0) -> (4, 1) -> (3, 2) -> (2, 1) -> (1, 0) -> (0, 0) \n"
          ]
        }
      ],
      "source": [
        "import heapq, math\n",
        "\n",
        "class Cell:\n",
        "    def __init__(self):\n",
        "        self.parent_i = self.parent_j = 0\n",
        "        self.f = self.g = float('inf')\n",
        "        self.h = 0\n",
        "\n",
        "ROW, COL = 9, 10\n",
        "\n",
        "def valid(r, c): return 0 <= r < ROW and 0 <= c < COL\n",
        "def unblocked(g, r, c): return g[r][c] == 1\n",
        "def dest(r, c, d): return (r, c) == (d[0], d[1])\n",
        "def h_val(r, c, d): return math.hypot(r - d[0], c - d[1])\n",
        "\n",
        "def trace(cell, d):\n",
        "    print(\"The Path is\")\n",
        "    path, r, c = [], d[0], d[1]\n",
        "    while not (cell[r][c].parent_i == r and cell[r][c].parent_j == c):\n",
        "        path.append((r, c))\n",
        "        r, c = cell[r][c].parent_i, cell[r][c].parent_j\n",
        "    path.append((r, c))\n",
        "    for i in reversed(path): print(\"->\", i, end=\" \")\n",
        "    print()\n",
        "\n",
        "def a_star(g, s, d):\n",
        "    if not valid(*s) or not valid(*d): return print(\"Invalid source/destination\")\n",
        "    if not unblocked(g, *s) or not unblocked(g, *d): return print(\"Blocked source/destination\")\n",
        "    if dest(*s, d): return print(\"Already at destination\")\n",
        "\n",
        "    closed = [[False]*COL for _ in range(ROW)]\n",
        "    cell = [[Cell() for _ in range(COL)] for _ in range(ROW)]\n",
        "    i, j = s\n",
        "    cell[i][j].f = cell[i][j].g = 0\n",
        "    cell[i][j].parent_i = i; cell[i][j].parent_j = j\n",
        "    open_list = [(0.0, i, j)]\n",
        "\n",
        "    while open_list:\n",
        "        f, i, j = heapq.heappop(open_list)\n",
        "        closed[i][j] = True\n",
        "        for di, dj in [(0,1),(0,-1),(1,0),(-1,0),(1,1),(1,-1),(-1,1),(-1,-1)]:\n",
        "            ni, nj = i+di, j+dj\n",
        "            if valid(ni,nj) and unblocked(g,ni,nj) and not closed[ni][nj]:\n",
        "                if dest(ni,nj,d):\n",
        "                    cell[ni][nj].parent_i, cell[ni][nj].parent_j = i, j\n",
        "                    print(\"Destination found\"); return trace(cell,d)\n",
        "                g_new = cell[i][j].g + 1\n",
        "                f_new = g_new + h_val(ni,nj,d)\n",
        "                if cell[ni][nj].f > f_new:\n",
        "                    heapq.heappush(open_list, (f_new, ni, nj))\n",
        "                    cell[ni][nj].f, cell[ni][nj].g, cell[ni][nj].h = f_new, g_new, h_val(ni,nj,d)\n",
        "                    cell[ni][nj].parent_i, cell[ni][nj].parent_j = i, j\n",
        "    print(\"Destination not found\")\n",
        "\n",
        "def main():\n",
        "    grid = [\n",
        "        [1,0,1,1,1,1,0,1,1,1],\n",
        "        [1,1,1,0,1,1,1,0,1,1],\n",
        "        [1,1,1,0,1,1,0,1,0,1],\n",
        "        [0,0,1,0,1,0,0,0,0,1],\n",
        "        [1,1,1,0,1,1,1,0,1,0],\n",
        "        [1,0,1,1,1,1,0,1,0,0],\n",
        "        [1,0,0,0,0,1,0,0,0,1],\n",
        "        [1,0,1,1,1,1,0,1,1,1],\n",
        "        [1,1,1,0,0,0,1,0,0,1]\n",
        "    ]\n",
        "    a_star(grid, [8,0], [0,0])\n",
        "\n",
        "if __name__ == \"__main__\": main()\n"
      ]
    },
    {
      "cell_type": "markdown",
      "metadata": {
        "id": "YnYB-AvoioAA"
      },
      "source": [
        "**TSP**"
      ]
    },
    {
      "cell_type": "code",
      "execution_count": null,
      "metadata": {
        "colab": {
          "base_uri": "https://localhost:8080/"
        },
        "id": "XplY16cWdinW",
        "outputId": "e17b7984-b682-45b2-bd89-20d88fe1fe46"
      },
      "outputs": [
        {
          "name": "stdout",
          "output_type": "stream",
          "text": [
            "The cost of the most efficient tour = 80\n"
          ]
        }
      ],
      "source": [
        "n = 4\n",
        "dist = [\n",
        "    [0, 0, 0, 0, 0],\n",
        "    [0, 0, 10, 15, 20],\n",
        "    [0, 10, 0, 25, 25],\n",
        "    [0, 15, 25, 0, 30],\n",
        "    [0, 20, 25, 30, 0]\n",
        "]\n",
        "\n",
        "memo = [[-1] * (1 << (n+1)) for _ in range(n+1)]\n",
        "\n",
        "def tsp(i, mask):\n",
        "    # Base case: only node 1 and node i are left in the mask\n",
        "    if mask == (1 << 1) | (1 << i):\n",
        "        return dist[1][i]\n",
        "\n",
        "    if memo[i][mask] != -1:\n",
        "        return memo[i][mask]\n",
        "\n",
        "    res = float('inf')\n",
        "    for j in range(2, n+1):   # try all possible previous nodes\n",
        "        if mask & (1 << j):   # if j is in mask\n",
        "            res = min(res, tsp(j, mask & ~(1 << i)) + dist[j][i])\n",
        "\n",
        "    memo[i][mask] = res\n",
        "    return res\n",
        "\n",
        "# Full mask: all nodes visited (1..n)\n",
        "full_mask = (1 << (n+1)) - 2   # exclude 0th index\n",
        "ans = min(tsp(i, full_mask) + dist[i][1] for i in range(2, n+1))\n",
        "\n",
        "print(\"The cost of the most efficient tour =\", ans)\n"
      ]
    },
    {
      "cell_type": "markdown",
      "metadata": {
        "id": "zOCirbneiH8f"
      },
      "source": [
        "**SIMULATED ANNEALING**"
      ]
    },
    {
      "cell_type": "code",
      "execution_count": null,
      "metadata": {
        "colab": {
          "base_uri": "https://localhost:8080/"
        },
        "id": "k0I30QhJeYfe",
        "outputId": "4afdff84-1a3a-4e69-9966-19aa7aa4627e"
      },
      "outputs": [
        {
          "name": "stdout",
          "output_type": "stream",
          "text": [
            "Best assignment: [0, 0, 1, 1, 0]\n",
            "Minimum makespan: 16\n"
          ]
        }
      ],
      "source": [
        "import random, math\n",
        "\n",
        "# Example jobs with processing times\n",
        "jobs = [2, 4, 6, 8, 10]\n",
        "machines = 2\n",
        "\n",
        "# Initialize random assignment of jobs to machines\n",
        "assignment = [random.randint(0, machines-1) for _ in jobs]\n",
        "\n",
        "def makespan(assign):\n",
        "    loads = [0]*machines\n",
        "    for j, m in enumerate(assign):\n",
        "        loads[m] += jobs[j]\n",
        "    return max(loads)\n",
        "\n",
        "def simulated_annealing(T=100, cooling=0.95):\n",
        "    global assignment\n",
        "    best = assignment[:]\n",
        "    best_cost = makespan(best)\n",
        "\n",
        "    while T > 1:\n",
        "        # Randomly move one job to a different machine\n",
        "        new_assign = best[:]\n",
        "        j = random.randint(0, len(jobs)-1)\n",
        "        new_assign[j] = random.randint(0, machines-1)\n",
        "\n",
        "        old_cost = makespan(best)\n",
        "        new_cost = makespan(new_assign)\n",
        "\n",
        "        # Accept if better OR with probability\n",
        "        if new_cost < old_cost or random.random() < math.exp((old_cost - new_cost)/T):\n",
        "            best, best_cost = new_assign, new_cost\n",
        "\n",
        "        T *= cooling\n",
        "\n",
        "    return best, best_cost\n",
        "\n",
        "solution, cost = simulated_annealing()\n",
        "print(\"Best assignment:\", solution)\n",
        "print(\"Minimum makespan:\", cost)\n"
      ]
    },
    {
      "cell_type": "markdown",
      "metadata": {
        "id": "UXWcTJxwMKmF"
      },
      "source": [
        "**MINIMA & MINIMA**\n",
        "\n",
        "---\n",
        "\n"
      ]
    },
    {
      "cell_type": "code",
      "execution_count": null,
      "metadata": {
        "colab": {
          "base_uri": "https://localhost:8080/"
        },
        "id": "ciMTvUXEonZ6",
        "outputId": "7dfc4e27-90be-4b17-88b1-a7f146c05817"
      },
      "outputs": [
        {
          "output_type": "stream",
          "name": "stdout",
          "text": [
            "  |   |  \n",
            "  |   |  \n",
            "  |   |  \n",
            "Move (r c): 1,2\n",
            "Bad move\n",
            "  |   |  \n",
            "  |   |  \n",
            "  |   |  \n",
            "Bad move\n",
            "  |   |  \n",
            "  |   |  \n",
            "  |   |  \n",
            "Bad move\n",
            "  |   |  \n",
            "  |   |  \n",
            "  |   |  \n",
            "Bad move\n",
            "  |   |  \n",
            "  |   |  \n",
            "  |   |  \n",
            "Bad move\n",
            "  |   |  \n",
            "  |   |  \n",
            "  |   |  \n"
          ]
        }
      ],
      "source": []
    },
    {
      "cell_type": "markdown",
      "metadata": {
        "id": "osDTY6_8MKXe"
      },
      "source": [
        "**MAXIMA**"
      ]
    },
    {
      "cell_type": "markdown",
      "metadata": {
        "id": "f3myIsD8hvN3"
      },
      "source": [
        "**CSP**"
      ]
    },
    {
      "cell_type": "code",
      "execution_count": null,
      "metadata": {
        "colab": {
          "base_uri": "https://localhost:8080/"
        },
        "id": "ebKH2_l-f212",
        "outputId": "a7b12cd8-6e79-4088-cdda-3b6ae6e441a5"
      },
      "outputs": [
        {
          "name": "stdout",
          "output_type": "stream",
          "text": [
            "Solution: {'A': 'Red', 'B': 'Green', 'C': 'Blue'}\n"
          ]
        }
      ],
      "source": [
        "def backtrack(variables, domains, constraints, assignment={}):\n",
        "    # if assignment is complete\n",
        "    if len(assignment) == len(variables):\n",
        "        return assignment\n",
        "\n",
        "    # pick next variable\n",
        "    var = [v for v in variables if v not in assignment][0]\n",
        "\n",
        "    for value in domains[var]:\n",
        "        new_assignment = assignment.copy()\n",
        "        new_assignment[var] = value\n",
        "\n",
        "        # check constraints\n",
        "        if all(constraints(new_assignment, var) for var in new_assignment):\n",
        "            result = backtrack(variables, domains, constraints, new_assignment)\n",
        "            if result:\n",
        "                return result\n",
        "    return None\n",
        "\n",
        "\n",
        "# Example CSP: Map Coloring (3 regions must have different colors)\n",
        "variables = [\"A\", \"B\", \"C\"]\n",
        "domains = {v: [\"Red\", \"Green\", \"Blue\"] for v in variables}\n",
        "\n",
        "# Neighbors: A-B, B-C, A-C\n",
        "neighbors = {\"A\":[\"B\",\"C\"], \"B\":[\"A\",\"C\"], \"C\":[\"A\",\"B\"]}\n",
        "\n",
        "def constraints(assignment, var):\n",
        "    for n in neighbors.get(var, []):\n",
        "        if n in assignment and assignment[n] == assignment[var]:\n",
        "            return False\n",
        "    return True\n",
        "\n",
        "solution = backtrack(variables, domains, constraints)\n",
        "print(\"Solution:\", solution)\n"
      ]
    },
    {
      "cell_type": "markdown",
      "metadata": {
        "id": "uYtNlwzZh2Z4"
      },
      "source": [
        "**GENETIC ALGORITHM**"
      ]
    },
    {
      "cell_type": "code",
      "execution_count": null,
      "metadata": {
        "colab": {
          "base_uri": "https://localhost:8080/"
        },
        "id": "6GwKuvyKMJwe",
        "outputId": "6680dd18-6d3b-4b0c-f194-c9f229ca9a0a"
      },
      "outputs": [
        {
          "name": "stdout",
          "output_type": "stream",
          "text": [
            "Best solution found: [0, 1, 1]\n",
            "Total value: 220\n"
          ]
        }
      ],
      "source": [
        "# Program No: 8\n",
        "# A shorter version of the Genetic Algorithm for the 0/1 knapsack problem.\n",
        "\n",
        "import random\n",
        "\n",
        "# --- Problem & GA Parameters ---\n",
        "ITEMS = [(10, 60), (20, 100), (30, 120)] # (weight, value)\n",
        "MAX_WEIGHT = 50\n",
        "POPULATION_SIZE = 20\n",
        "GENERATIONS = 15\n",
        "MUTATION_RATE = 0.01\n",
        "\n",
        "def calculate_fitness(individual):\n",
        "    \"\"\"Calculate fitness; returns 0 if weight exceeds max.\"\"\"\n",
        "    weight = sum(individual[i] * ITEMS[i][0] for i in range(len(ITEMS)))\n",
        "    value = sum(individual[i] * ITEMS[i][1] for i in range(len(ITEMS)))\n",
        "    return value if weight <= MAX_WEIGHT else 0\n",
        "\n",
        "# --- Main Execution ---\n",
        "# 1. Initialize population\n",
        "population = [[random.randint(0, 1) for _ in range(len(ITEMS))] for _ in range(POPULATION_SIZE)]\n",
        "\n",
        "# 2. Evolve for a number of generations\n",
        "for _ in range(GENERATIONS):\n",
        "    population.sort(key=calculate_fitness, reverse=True)\n",
        "    next_generation = [population[0]] # Elitism: keep the best\n",
        "\n",
        "    while len(next_generation) < POPULATION_SIZE:\n",
        "        # Selection (tournament)\n",
        "        parent1 = sorted(random.sample(population, 2), key=calculate_fitness, reverse=True)[0]\n",
        "        parent2 = sorted(random.sample(population, 2), key=calculate_fitness, reverse=True)[0]\n",
        "\n",
        "        # Crossover\n",
        "        crossover_point = random.randint(1, len(ITEMS) - 1)\n",
        "        child = parent1[:crossover_point] + parent2[crossover_point:]\n",
        "\n",
        "        # Mutation\n",
        "        for i in range(len(child)):\n",
        "            if random.random() < MUTATION_RATE:\n",
        "                child[i] = 1 - child[i]\n",
        "\n",
        "        next_generation.append(child)\n",
        "\n",
        "    population = next_generation\n",
        "\n",
        "# --- Final Result ---\n",
        "best_solution = population[0]\n",
        "best_value = calculate_fitness(best_solution)\n",
        "\n",
        "print(f\"Best solution found: {best_solution}\")\n",
        "print(f\"Total value: {best_value}\")\n",
        "\n"
      ]
    },
    {
      "cell_type": "markdown",
      "metadata": {
        "id": "-amUiXChMCjB"
      },
      "source": [
        "**HILL CLIMBING**"
      ]
    },
    {
      "cell_type": "code",
      "execution_count": null,
      "metadata": {
        "colab": {
          "base_uri": "https://localhost:8080/"
        },
        "id": "dt66pd74Khyc",
        "outputId": "d2070572-05b3-47a0-ad31-2aba7d5f1667"
      },
      "outputs": [
        {
          "name": "stdout",
          "output_type": "stream",
          "text": [
            "Optimal path: [0, 1, 3, 2]\n",
            "Total distance: 75\n"
          ]
        }
      ],
      "source": [
        "import random\n",
        "\n",
        "distance_matrix = [\n",
        "    [0, 10, 15, 20],\n",
        "    [10, 0, 20, 25],\n",
        "    [15, 35, 0, 30],\n",
        "    [20, 25, 25, 0]\n",
        "]\n",
        "def total_distance(path):\n",
        "    # Calculate the total distance traveled in the given path\n",
        "    total = 0\n",
        "    for i in range(len(path) - 1):\n",
        "        total += distance_matrix[path[i]][path[i+1]]\n",
        "    total += distance_matrix[path[-1]][path[0]]  # Return to starting city\n",
        "    return total\n",
        "def hill_climbing_tsp(num_cities, max_iterations=10000):\n",
        "    current_path = list(range(num_cities))  # Initial solution, visiting cities in order\n",
        "    current_distance = total_distance(current_path)\n",
        "    for _ in range(max_iterations):\n",
        "        # Generate a neighboring solution by swapping two random cities\n",
        "        neighbor_path = current_path.copy()\n",
        "        i, j = random.sample(range(num_cities), 2)\n",
        "        neighbor_path[i], neighbor_path[j] = neighbor_path[j], neighbor_path[i]\n",
        "        neighbor_distance = total_distance(neighbor_path)\n",
        "\n",
        "        # If the neighbor solution is better, move to it\n",
        "        if neighbor_distance < current_distance:\n",
        "            current_path = neighbor_path\n",
        "            current_distance = neighbor_distance\n",
        "    return current_path\n",
        "def main():\n",
        "    num_cities = 4  # Number of cities in the TSP\n",
        "    solution = hill_climbing_tsp(num_cities)\n",
        "    print(\"Optimal path:\", solution)\n",
        "    print(\"Total distance:\", total_distance(solution))\n",
        "if __name__ == \"__main__\":\n",
        "    main()"
      ]
    },
    {
      "cell_type": "code",
      "execution_count": null,
      "metadata": {
        "colab": {
          "base_uri": "https://localhost:8080/"
        },
        "id": "DOMxZJ8RMJz_",
        "outputId": "00369bd9-59c8-47a6-e113-82a566215e2b"
      },
      "outputs": [
        {
          "output_type": "stream",
          "name": "stdout",
          "text": [
            "this program is completed by shakthivel c 192553012\n",
            "\n",
            "Wumpus World Map:\n",
            "['S', '.', 'B', 'P']\n",
            "['W', 'S,T,B', 'P', 'B']\n",
            "['S', '.', 'B', '.']\n",
            "['A', 'B', 'P', 'B']\n",
            "\n",
            "Agent starts at (1,1)\n",
            "Percepts: ['Agent']\n",
            "\n",
            "Agent Movement Simulation:\n",
            "Move to (1,1)\n",
            " Percepts: ['Agent']\n",
            "Move to (1,2)\n",
            " Percepts: ['Stench']\n",
            "Move to (2,2)\n",
            " Percepts: []\n",
            "Move to (2,3)\n",
            " Percepts: ['Breeze', 'Stench', 'Glitter']\n",
            " Agent found the Treasure!\n"
          ]
        }
      ],
      "source": [
        "\n",
        "\n",
        "grid = [\n",
        "    [\"A\", \"B\", \"P\", \"B\"],     # Row 1 -> y=1\n",
        "    [\"S\", \".\", \"B\", \".\"],     # Row 2 -> y=2\n",
        "    [\"W\", \"S,T,B\", \"P\", \"B\"], # Row 3 -> y=3\n",
        "    [\"S\", \".\", \"B\", \"P\"]      # Row 4 -> y=4\n",
        "]\n",
        "\n",
        "N = 4  # Grid size\n",
        "\n",
        "\n",
        "def print_grid():\n",
        "    print(\"\\nWumpus World Map:\")\n",
        "    for row in reversed(grid):  # print from top to bottom\n",
        "        print(row)\n",
        "    print()\n",
        "\n",
        "\n",
        "def get_percepts(x, y):\n",
        "    \"\"\"Return percepts at given cell (1-based indexing).\"\"\"\n",
        "    if x < 1 or x > N or y < 1 or y > N:\n",
        "        return []\n",
        "\n",
        "    cell = grid[y-1][x-1]\n",
        "    percepts = []\n",
        "\n",
        "    if \"B\" in cell:\n",
        "        percepts.append(\"Breeze\")\n",
        "    if \"S\" in cell:\n",
        "        percepts.append(\"Stench\")\n",
        "    if \"T\" in cell:\n",
        "        percepts.append(\"Glitter\")\n",
        "    if \"W\" in cell:\n",
        "        percepts.append(\"Wumpus\")\n",
        "    if \"P\" in cell:\n",
        "        percepts.append(\"Pit\")\n",
        "    if \"A\" in cell:\n",
        "        percepts.append(\"Agent\")\n",
        "\n",
        "    return percepts\n",
        "\n",
        "\n",
        "def is_safe(x, y):\n",
        "    \"\"\"Check if a cell is safe to move into (no Pit or Wumpus).\"\"\"\n",
        "    if x < 1 or x > N or y < 1 or y > N:\n",
        "        return False\n",
        "    cell = grid[y-1][x-1]\n",
        "    return \"P\" not in cell and \"W\" not in cell\n",
        "\n",
        "print(\"this program is completed by shakthivel c 192553012\")\n",
        "\n",
        "\n",
        "# Example: agent starting at (1,1)\n",
        "print_grid()\n",
        "print(\"Agent starts at (1,1)\")\n",
        "print(\"Percepts:\", get_percepts(1, 1))\n",
        "\n",
        "# Example path: (1,1) -> (1,2) -> (2,2) -> (2,3) [Treasure]\n",
        "path = [(1,1), (1,2), (2,2), (2,3)]\n",
        "print(\"\\nAgent Movement Simulation:\")\n",
        "for (x,y) in path:\n",
        "    print(f\"Move to ({x},{y})\")\n",
        "    print(\" Percepts:\", get_percepts(x,y))\n",
        "    if not is_safe(x,y):\n",
        "        print(\"  Agent died!\")\n",
        "        break\n",
        "    if \"T\" in grid[y-1][x-1]:\n",
        "        print(\" Agent found the Treasure!\")\n",
        "        break"
      ]
    },
    {
      "cell_type": "code",
      "source": [
        "from sklearn.tree import DecisionTreeClassifier, export_text\n",
        "from sklearn.preprocessing import LabelEncoder\n",
        "import random\n",
        "X = [\n",
        "    ['Sunny', 'Hot', 'High', False],\n",
        "    ['Sunny', 'Hot', 'High', True],\n",
        "    ['Overcast', 'Hot', 'High', False],\n",
        "    ['Rain', 'Mild', 'High', False],\n",
        "    ['Rain', 'Cool', 'Normal', False],\n",
        "    ['Rain', 'Cool', 'Normal', True],\n",
        "    ['Overcast', 'Cool', 'Normal', True],\n",
        "    ['Sunny', 'Mild', 'High', False]\n",
        "]\n",
        "y = ['No', 'No', 'Yes', 'Yes', 'Yes', 'No', 'Yes', 'No']\n",
        "for i in range(len(X[0])):\n",
        "    le = LabelEncoder()\n",
        "    col = [row[i] for row in X]\n",
        "    enc = le.fit_transform(col)\n",
        "    for j in range(len(X)):\n",
        "        X[j][i] = enc[j]\n",
        "model = DecisionTreeClassifier(splitter=\"random\", random_state=random.randint(0, 1000))\n",
        "model.fit(X, y)\n",
        "print(export_text(model, feature_names=['Outlook', 'Temp', 'Humidity', 'Windy']))\n"
      ],
      "metadata": {
        "colab": {
          "base_uri": "https://localhost:8080/"
        },
        "id": "6BIPD3eBScnU",
        "outputId": "370f9c48-d474-4284-8cda-3162a36eaaec"
      },
      "execution_count": null,
      "outputs": [
        {
          "output_type": "stream",
          "name": "stdout",
          "text": [
            "|--- Outlook <= 1.91\n",
            "|   |--- Windy <= 0.96\n",
            "|   |   |--- class: Yes\n",
            "|   |--- Windy >  0.96\n",
            "|   |   |--- Outlook <= 0.66\n",
            "|   |   |   |--- class: Yes\n",
            "|   |   |--- Outlook >  0.66\n",
            "|   |   |   |--- class: No\n",
            "|--- Outlook >  1.91\n",
            "|   |--- class: No\n",
            "\n"
          ]
        }
      ]
    },
    {
      "cell_type": "code",
      "source": [],
      "metadata": {
        "id": "YyH5TdWbScri"
      },
      "execution_count": null,
      "outputs": []
    },
    {
      "cell_type": "code",
      "execution_count": null,
      "metadata": {
        "id": "r28Hl205MKC_"
      },
      "outputs": [],
      "source": []
    },
    {
      "cell_type": "code",
      "execution_count": null,
      "metadata": {
        "id": "F7FL5tp7irq1"
      },
      "outputs": [],
      "source": []
    },
    {
      "cell_type": "code",
      "execution_count": null,
      "metadata": {
        "id": "mG4SnqCvKWU3"
      },
      "outputs": [],
      "source": []
    },
    {
      "cell_type": "code",
      "execution_count": null,
      "metadata": {
        "id": "czz0KbXiikjP"
      },
      "outputs": [],
      "source": []
    },
    {
      "cell_type": "code",
      "source": [],
      "metadata": {
        "id": "lPNe_u6M-WcL"
      },
      "execution_count": null,
      "outputs": []
    },
    {
      "cell_type": "code",
      "source": [],
      "metadata": {
        "id": "1z1QVjtw-Wjj"
      },
      "execution_count": null,
      "outputs": []
    },
    {
      "cell_type": "code",
      "source": [],
      "metadata": {
        "id": "ZVGL3cBE-Wop"
      },
      "execution_count": null,
      "outputs": []
    }
  ],
  "metadata": {
    "colab": {
      "provenance": [],
      "include_colab_link": true
    },
    "kernelspec": {
      "display_name": "Python 3",
      "name": "python3"
    }
  },
  "nbformat": 4,
  "nbformat_minor": 0
}