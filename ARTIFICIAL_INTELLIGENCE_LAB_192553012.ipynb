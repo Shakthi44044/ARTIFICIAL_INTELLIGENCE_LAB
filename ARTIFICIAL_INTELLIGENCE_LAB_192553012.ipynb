{
  "cells": [
    {
      "cell_type": "markdown",
      "metadata": {
        "id": "view-in-github",
        "colab_type": "text"
      },
      "source": [
        "<a href=\"https://colab.research.google.com/github/Shakthi44044/ARTIFICIAL_INTELLIGENCE_LAB/blob/main/ARTIFICIAL_INTELLIGENCE_LAB_192553012.ipynb\" target=\"_parent\"><img src=\"https://colab.research.google.com/assets/colab-badge.svg\" alt=\"Open In Colab\"/></a>"
      ]
    },
    {
      "cell_type": "markdown",
      "source": [
        "**BFS**"
      ],
      "metadata": {
        "id": "efreJmrbP7l8"
      }
    },
    {
      "cell_type": "code",
      "execution_count": null,
      "metadata": {
        "colab": {
          "base_uri": "https://localhost:8080/"
        },
        "id": "lIYdn1woOS1n",
        "outputId": "be2bf896-e3a3-4c88-de86-36afe35e7d54"
      },
      "outputs": [
        {
          "output_type": "stream",
          "name": "stdout",
          "text": [
            "0 1 2 3 4 "
          ]
        }
      ],
      "source": [
        "# Function to find BFS of Graph from given source s\n",
        "def bfs(adj):\n",
        "\n",
        "    # get number of vertices\n",
        "    V = len(adj)\n",
        "\n",
        "    # create an array to store the traversal\n",
        "    res = []\n",
        "    s = 0\n",
        "    # Create a queue for BFS\n",
        "    from collections import deque\n",
        "    q = deque()\n",
        "\n",
        "    # Initially mark all the vertices as not visited\n",
        "    visited = [False] * V\n",
        "\n",
        "    # Mark source node as visited and enqueue it\n",
        "    visited[s] = True\n",
        "    q.append(s)\n",
        "\n",
        "    # Iterate over the queue\n",
        "    while q:\n",
        "\n",
        "        # Dequeue a vertex from queue and store it\n",
        "        curr = q.popleft()\n",
        "        res.append(curr)\n",
        "\n",
        "        # Get all adjacent vertices of the dequeued\n",
        "        # vertex curr If an adjacent has not been\n",
        "        # visited, mark it visited and enqueue it\n",
        "        for x in adj[curr]:\n",
        "            if not visited[x]:\n",
        "                visited[x] = True\n",
        "                q.append(x)\n",
        "\n",
        "    return res\n",
        "\n",
        "if __name__ == \"__main__\":\n",
        "\n",
        "    # create the adjacency list\n",
        "    # [ [2, 3, 1], [0], [0, 4], [0], [2] ]\n",
        "    adj = [[1,2], [0,2,3], [0,4], [1,4], [2,3]]\n",
        "    ans = bfs(adj)\n",
        "    for i in ans:\n",
        "\n",
        "        print(i, end=\" \")"
      ]
    },
    {
      "cell_type": "markdown",
      "source": [
        "**DFS**"
      ],
      "metadata": {
        "id": "oRgTMaAsP3jU"
      }
    },
    {
      "cell_type": "code",
      "source": [
        "# Create an adjacency list for the graph\n",
        "from collections import defaultdict\n",
        "\n",
        "\n",
        "def add_edge(adj, s, t):\n",
        "    adj[s].append(t)\n",
        "    adj[t].append(s)\n",
        "\n",
        "# Recursive function for DFS traversal\n",
        "\n",
        "\n",
        "def dfs_rec(adj, visited, s, res):\n",
        "    # Mark the current vertex as visited\n",
        "    visited[s] = True\n",
        "    res.append(s)\n",
        "\n",
        "    # Recursively visit all adjacent vertices that are not visited yet\n",
        "    for i in adj[s]:\n",
        "        if not visited[i]:\n",
        "            dfs_rec(adj, visited, i, res)\n",
        "\n",
        "# Main DFS function to perform DFS for the entire graph\n",
        "\n",
        "\n",
        "def dfs(adj):\n",
        "    visited = [False] * len(adj)\n",
        "    res = []\n",
        "    # Loop through all vertices to handle disconnected graph\n",
        "    for i in range(len(adj)):\n",
        "        if not visited[i]:\n",
        "            # If vertex i has not been visited,\n",
        "            # perform DFS from it\n",
        "            dfs_rec(adj, visited, i, res)\n",
        "    return res\n",
        "\n",
        "\n",
        "V = 6\n",
        "# Create an adjacency list for the graph\n",
        "adj = defaultdict(list)\n",
        "\n",
        "# Define the edges of the graph\n",
        "edges = [[1, 2], [2, 0], [0, 3], [4, 5]]\n",
        "\n",
        "# Populate the adjacency list with edges\n",
        "for e in edges:\n",
        "    add_edge(adj, e[0], e[1])\n",
        "res = dfs(adj)\n",
        "\n",
        "print(' '.join(map(str, res)))"
      ],
      "metadata": {
        "id": "hdyjbnJ-KWMz",
        "outputId": "5885a5fe-368b-4bff-f558-3c548317601d",
        "colab": {
          "base_uri": "https://localhost:8080/"
        }
      },
      "execution_count": null,
      "outputs": [
        {
          "output_type": "stream",
          "name": "stdout",
          "text": [
            "0 2 1 3 4 5\n"
          ]
        }
      ]
    },
    {
      "cell_type": "markdown",
      "source": [
        "**WATER JUG 3 JUGS PROBLEM**"
      ],
      "metadata": {
        "id": "3HxgSFf8QDQT"
      }
    },
    {
      "cell_type": "code",
      "source": [],
      "metadata": {
        "id": "jqmnjgTJKhiK"
      },
      "execution_count": null,
      "outputs": []
    },
    {
      "cell_type": "code",
      "source": [],
      "metadata": {
        "id": "dt66pd74Khyc"
      },
      "execution_count": null,
      "outputs": []
    },
    {
      "cell_type": "code",
      "source": [],
      "metadata": {
        "id": "mG4SnqCvKWU3"
      },
      "execution_count": null,
      "outputs": []
    }
  ],
  "metadata": {
    "colab": {
      "provenance": [],
      "include_colab_link": true
    },
    "kernelspec": {
      "display_name": "Python 3",
      "name": "python3"
    }
  },
  "nbformat": 4,
  "nbformat_minor": 0
}